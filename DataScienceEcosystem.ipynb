{
 "cells": [
  {
   "cell_type": "markdown",
   "id": "09b28b93-85be-4421-9486-2abe678e2c67",
   "metadata": {},
   "source": [
    "# Data Science Tools and Ecosystem"
   ]
  },
  {
   "cell_type": "markdown",
   "id": "c8c07876-4baf-4670-a5b5-dbf93699f15f",
   "metadata": {},
   "source": [
    "In this notebook, Data Science Tools and Ecosystem are summarized."
   ]
  },
  {
   "cell_type": "markdown",
   "id": "63282af8-f7d4-44b5-950e-cb95a75499c1",
   "metadata": {},
   "source": [
    "**Objectives:**\n",
    "- Python, R and SQL are the most popular data science languages.\n",
    "- There are 3 types of ML models: Supervised , Unsupervised and Reinforcement\n",
    "- Jupyter supports multiple languages like : Python , R , Julia, Java, Scala, etc.\n",
    "- Markdown cells are used to create a clear and understandable document of code along with examples.\n",
    "- Git is the open source tool for code management and versioning."
   ]
  },
  {
   "cell_type": "markdown",
   "id": "7cad83c7-088d-4caa-8f09-48ee53c2c280",
   "metadata": {},
   "source": [
    "Some of the popular languages that Data Scientists use are:\r\n",
    "1. Python\r\n",
    "2. R\r\n",
    "3. SQL"
   ]
  },
  {
   "cell_type": "markdown",
   "id": "a118efba-9ea4-4230-8f38-70084146c28a",
   "metadata": {},
   "source": [
    "Some of the commonly used libraries used by Data Scientists include:\n",
    "1. Pandas\n",
    "2. Numpy\n",
    "3. Scikit Learn"
   ]
  },
  {
   "cell_type": "markdown",
   "id": "ce93196f-4686-4128-9c69-820042b6fec5",
   "metadata": {},
   "source": [
    "|Data Science Tools|\n",
    "|------------------|\n",
    "|Jupyter Lab       |\n",
    "|R Studio          |\n",
    "|Spyder            |\n"
   ]
  },
  {
   "cell_type": "markdown",
   "id": "2736ccaa-a2c8-4de4-b0c5-924dfbc5fe6b",
   "metadata": {},
   "source": [
    "### Below are a few examples of evaluating arithmetic expressions in Python"
   ]
  },
  {
   "cell_type": "code",
   "execution_count": 2,
   "id": "b9c93e6f-fb93-448f-8485-22c5cf0ee8ee",
   "metadata": {},
   "outputs": [
    {
     "data": {
      "text/plain": [
       "17"
      ]
     },
     "execution_count": 2,
     "metadata": {},
     "output_type": "execute_result"
    }
   ],
   "source": [
    " #This a simple arithmetic expression to mutiply then add integers\n",
    "(3*4)+5"
   ]
  },
  {
   "cell_type": "code",
   "execution_count": 3,
   "id": "99111973-27ca-4445-942c-0ce2d3d07df8",
   "metadata": {},
   "outputs": [
    {
     "data": {
      "text/plain": [
       "3.3333333333333335"
      ]
     },
     "execution_count": 3,
     "metadata": {},
     "output_type": "execute_result"
    }
   ],
   "source": [
    " #This will convert 200 minutes to hours by diving by 60\n",
    "200/60"
   ]
  },
  {
   "cell_type": "markdown",
   "id": "da686e75-8aaf-4711-a9b9-0f134690fe1d",
   "metadata": {},
   "source": [
    "## Author\n",
    "__Shivam__"
   ]
  },
  {
   "cell_type": "code",
   "execution_count": null,
   "id": "442f47cb-1bf8-424b-b8d3-77f63daa177a",
   "metadata": {},
   "outputs": [],
   "source": []
  }
 ],
 "metadata": {
  "kernelspec": {
   "display_name": "Python 3 (ipykernel)",
   "language": "python",
   "name": "python3"
  },
  "language_info": {
   "codemirror_mode": {
    "name": "ipython",
    "version": 3
   },
   "file_extension": ".py",
   "mimetype": "text/x-python",
   "name": "python",
   "nbconvert_exporter": "python",
   "pygments_lexer": "ipython3",
   "version": "3.11.5"
  }
 },
 "nbformat": 4,
 "nbformat_minor": 5
}
